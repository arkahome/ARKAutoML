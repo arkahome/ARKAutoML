{
 "cells": [
  {
   "cell_type": "code",
   "execution_count": 1,
   "source": [
    "import sys\r\n",
    "sys.path.append('..')"
   ],
   "outputs": [],
   "metadata": {}
  },
  {
   "cell_type": "code",
   "execution_count": 2,
   "source": [
    "from src.ARKAutoML import ARKAutoML\r\n",
    "from sklearn.model_selection import train_test_split\r\n",
    "from config import BaseConfig\r\n",
    "import pandas as pd"
   ],
   "outputs": [],
   "metadata": {}
  },
  {
   "cell_type": "code",
   "execution_count": 3,
   "source": [
    "df = pd.read_csv(BaseConfig.FILE_NAME)"
   ],
   "outputs": [],
   "metadata": {}
  },
  {
   "cell_type": "code",
   "execution_count": 4,
   "source": [
    "train, valid = train_test_split(df)"
   ],
   "outputs": [],
   "metadata": {}
  },
  {
   "cell_type": "code",
   "execution_count": 5,
   "source": [
    "aml = ARKAutoML(train,config=BaseConfig,\r\n",
    "                   eval_metric='accuracy', \r\n",
    "                   n_trials=20, model_algos=['lgb'],\r\n",
    "                   )"
   ],
   "outputs": [
    {
     "output_type": "stream",
     "name": "stderr",
     "text": [
      "2021-09-24 08:33:14.800 | INFO     | src.ARKAutoML.ARKAutoML:add_project_config_to_logs:43 - \n",
      "{'BASE_INPUT_PATH': '../input/',\n",
      " 'BASE_OUTPUT_PATH': '../output/',\n",
      " 'DATA_PATH': '../input/../input/train.csv',\n",
      " 'FILE_NAME': '../input/train.csv',\n",
      " 'FOLD_METHOD': 'StratifiedKFold',\n",
      " 'PROBLEM_TYPE': 'classification',\n",
      " 'PROJECT_NAME': 'MySampleProject',\n",
      " 'SUB_PROJECT_NAME': 'Sample_1',\n",
      " 'TARGET_COL': 'customer_category',\n",
      " 'cat_cols': ['customer_active_segment', 'X1'],\n",
      " 'cont_cols': ['customer_visit_score',\n",
      "               'customer_product_search_score',\n",
      "               'customer_ctr_score',\n",
      "               'customer_stay_score',\n",
      "               'customer_frequency_score',\n",
      "               'customer_product_variation_score',\n",
      "               'customer_order_score',\n",
      "               'customer_affinity_score']}\n",
      "2021-09-24 08:33:14.807 | INFO     | src.ARKAutoML.create_folds:create_folds:26 - Fold 1 : 6442, 1611\n",
      "2021-09-24 08:33:14.809 | INFO     | src.ARKAutoML.create_folds:create_folds:26 - Fold 2 : 6442, 1611\n",
      "2021-09-24 08:33:14.811 | INFO     | src.ARKAutoML.create_folds:create_folds:26 - Fold 3 : 6442, 1611\n",
      "2021-09-24 08:33:14.812 | INFO     | src.ARKAutoML.create_folds:create_folds:26 - Fold 4 : 6443, 1610\n",
      "2021-09-24 08:33:14.813 | INFO     | src.ARKAutoML.create_folds:create_folds:26 - Fold 5 : 6443, 1610\n"
     ]
    }
   ],
   "metadata": {}
  },
  {
   "cell_type": "code",
   "execution_count": 6,
   "source": [
    "aml.n_folds = 1"
   ],
   "outputs": [],
   "metadata": {}
  },
  {
   "cell_type": "code",
   "execution_count": 7,
   "source": [
    "aml.create_optuna_optimization()"
   ],
   "outputs": [
    {
     "output_type": "stream",
     "name": "stderr",
     "text": [
      "\u001b[32m[I 2021-09-24 08:33:15,075]\u001b[0m A new study created in memory with name: MySampleProject\u001b[0m\n",
      "C:\\ProgramData\\Anaconda3\\lib\\site-packages\\optuna\\distributions.py:545: UserWarning: The distribution is specified by [0.1, 100] and q=1, but the range is not divisible by `q`. It will be replaced by [0.1, 99.1].\n",
      "  warnings.warn(\n",
      "2021-09-24 08:33:15.140 | INFO     | src.ARKAutoML.ARKAutoML:objective:79 - Trial No : 0, accuracy : 0.9758, Params : {'model_algo': 'lgb', 'num_leaves': 42, 'min_child_samples': 137, 'min_child_weight': 4, 'subsample': 1.0, 'colsample_bytree': 0.6, 'reg_alpha': 13.1, 'reg_lambda': 60.1}\n",
      "                        Accuracy : 0.976  F1_score_0 : 0.986  F1_score_1 : 0.894  Precision_0 : 0.979  Precision_1 : 0.948  Recall_0 : 0.994  Recall_1 : 0.846  Roc_auc : 0.967\n",
      "\u001b[32m[I 2021-09-24 08:33:15,365]\u001b[0m Trial 0 finished with value: 0.9757914338919925 and parameters: {'model_algo': 'lgb', 'num_leaves': 42, 'min_child_samples': 137, 'min_child_weight': 4, 'subsample': 1.0, 'colsample_bytree': 0.6, 'reg_alpha': 13.1, 'reg_lambda': 60.1}. Best is trial 0 with value: 0.9757914338919925.\u001b[0m\n",
      "C:\\ProgramData\\Anaconda3\\lib\\site-packages\\optuna\\distributions.py:545: UserWarning: The distribution is specified by [0.1, 100] and q=1, but the range is not divisible by `q`. It will be replaced by [0.1, 99.1].\n",
      "  warnings.warn(\n",
      "2021-09-24 08:33:15.405 | INFO     | src.ARKAutoML.ARKAutoML:objective:79 - Trial No : 1, accuracy : 0.9752, Params : {'model_algo': 'lgb', 'num_leaves': 33, 'min_child_samples': 419, 'min_child_weight': 6, 'subsample': 0.9, 'colsample_bytree': 0.8, 'reg_alpha': 84.1, 'reg_lambda': 18.1}\n",
      "                        Accuracy : 0.975  F1_score_0 : 0.986  F1_score_1 : 0.891  Precision_0 : 0.978  Precision_1 : 0.953  Recall_0 : 0.994  Recall_1 : 0.836  Roc_auc : 0.958\n",
      "\u001b[32m[I 2021-09-24 08:33:15,473]\u001b[0m Trial 1 finished with value: 0.9751707014276847 and parameters: {'model_algo': 'lgb', 'num_leaves': 33, 'min_child_samples': 419, 'min_child_weight': 6, 'subsample': 0.9, 'colsample_bytree': 0.8, 'reg_alpha': 84.1, 'reg_lambda': 18.1}. Best is trial 0 with value: 0.9757914338919925.\u001b[0m\n",
      "C:\\ProgramData\\Anaconda3\\lib\\site-packages\\optuna\\distributions.py:545: UserWarning: The distribution is specified by [0.1, 100] and q=1, but the range is not divisible by `q`. It will be replaced by [0.1, 99.1].\n",
      "  warnings.warn(\n",
      "2021-09-24 08:33:15.514 | INFO     | src.ARKAutoML.ARKAutoML:objective:79 - Trial No : 2, accuracy : 0.9721, Params : {'model_algo': 'lgb', 'num_leaves': 31, 'min_child_samples': 138, 'min_child_weight': 7, 'subsample': 0.7, 'colsample_bytree': 0.6, 'reg_alpha': 99.1, 'reg_lambda': 28.1}\n",
      "                        Accuracy : 0.972  F1_score_0 : 0.984  F1_score_1 : 0.875  Precision_0 : 0.974  Precision_1 : 0.952  Recall_0 : 0.994  Recall_1 : 0.81  Roc_auc : 0.957\n",
      "\u001b[32m[I 2021-09-24 08:33:15,580]\u001b[0m Trial 2 finished with value: 0.9720670391061452 and parameters: {'model_algo': 'lgb', 'num_leaves': 31, 'min_child_samples': 138, 'min_child_weight': 7, 'subsample': 0.7, 'colsample_bytree': 0.6, 'reg_alpha': 99.1, 'reg_lambda': 28.1}. Best is trial 0 with value: 0.9757914338919925.\u001b[0m\n",
      "C:\\ProgramData\\Anaconda3\\lib\\site-packages\\optuna\\distributions.py:545: UserWarning: The distribution is specified by [0.1, 100] and q=1, but the range is not divisible by `q`. It will be replaced by [0.1, 99.1].\n",
      "  warnings.warn(\n",
      "2021-09-24 08:33:15.625 | INFO     | src.ARKAutoML.ARKAutoML:objective:79 - Trial No : 3, accuracy : 0.9739, Params : {'model_algo': 'lgb', 'num_leaves': 22, 'min_child_samples': 458, 'min_child_weight': 2, 'subsample': 0.7, 'colsample_bytree': 0.9, 'reg_alpha': 53.1, 'reg_lambda': 52.1}\n",
      "                        Accuracy : 0.974  F1_score_0 : 0.985  F1_score_1 : 0.885  Precision_0 : 0.977  Precision_1 : 0.947  Recall_0 : 0.994  Recall_1 : 0.831  Roc_auc : 0.959\n",
      "\u001b[32m[I 2021-09-24 08:33:15,693]\u001b[0m Trial 3 finished with value: 0.9739292364990689 and parameters: {'model_algo': 'lgb', 'num_leaves': 22, 'min_child_samples': 458, 'min_child_weight': 2, 'subsample': 0.7, 'colsample_bytree': 0.9, 'reg_alpha': 53.1, 'reg_lambda': 52.1}. Best is trial 0 with value: 0.9757914338919925.\u001b[0m\n",
      "C:\\ProgramData\\Anaconda3\\lib\\site-packages\\optuna\\distributions.py:545: UserWarning: The distribution is specified by [0.1, 100] and q=1, but the range is not divisible by `q`. It will be replaced by [0.1, 99.1].\n",
      "  warnings.warn(\n",
      "2021-09-24 08:33:15.737 | INFO     | src.ARKAutoML.ARKAutoML:objective:79 - Trial No : 4, accuracy : 0.9752, Params : {'model_algo': 'lgb', 'num_leaves': 17, 'min_child_samples': 206, 'min_child_weight': 3, 'subsample': 0.6, 'colsample_bytree': 0.7, 'reg_alpha': 81.1, 'reg_lambda': 69.1}\n",
      "                        Accuracy : 0.975  F1_score_0 : 0.986  F1_score_1 : 0.891  Precision_0 : 0.978  Precision_1 : 0.948  Recall_0 : 0.994  Recall_1 : 0.841  Roc_auc : 0.959\n",
      "\u001b[32m[I 2021-09-24 08:33:15,807]\u001b[0m Trial 4 finished with value: 0.9751707014276847 and parameters: {'model_algo': 'lgb', 'num_leaves': 17, 'min_child_samples': 206, 'min_child_weight': 3, 'subsample': 0.6, 'colsample_bytree': 0.7, 'reg_alpha': 81.1, 'reg_lambda': 69.1}. Best is trial 0 with value: 0.9757914338919925.\u001b[0m\n",
      "C:\\ProgramData\\Anaconda3\\lib\\site-packages\\optuna\\distributions.py:545: UserWarning: The distribution is specified by [0.1, 100] and q=1, but the range is not divisible by `q`. It will be replaced by [0.1, 99.1].\n",
      "  warnings.warn(\n",
      "2021-09-24 08:33:15.852 | INFO     | src.ARKAutoML.ARKAutoML:objective:79 - Trial No : 5, accuracy : 0.9752, Params : {'model_algo': 'lgb', 'num_leaves': 14, 'min_child_samples': 317, 'min_child_weight': 7, 'subsample': 1.0, 'colsample_bytree': 0.8, 'reg_alpha': 43.1, 'reg_lambda': 14.1}\n",
      "                        Accuracy : 0.975  F1_score_0 : 0.986  F1_score_1 : 0.891  Precision_0 : 0.978  Precision_1 : 0.948  Recall_0 : 0.994  Recall_1 : 0.841  Roc_auc : 0.962\n",
      "\u001b[32m[I 2021-09-24 08:33:15,922]\u001b[0m Trial 5 finished with value: 0.9751707014276847 and parameters: {'model_algo': 'lgb', 'num_leaves': 14, 'min_child_samples': 317, 'min_child_weight': 7, 'subsample': 1.0, 'colsample_bytree': 0.8, 'reg_alpha': 43.1, 'reg_lambda': 14.1}. Best is trial 0 with value: 0.9757914338919925.\u001b[0m\n",
      "C:\\ProgramData\\Anaconda3\\lib\\site-packages\\optuna\\distributions.py:545: UserWarning: The distribution is specified by [0.1, 100] and q=1, but the range is not divisible by `q`. It will be replaced by [0.1, 99.1].\n",
      "  warnings.warn(\n",
      "2021-09-24 08:33:15.982 | INFO     | src.ARKAutoML.ARKAutoML:objective:79 - Trial No : 6, accuracy : 0.9758, Params : {'model_algo': 'lgb', 'num_leaves': 43, 'min_child_samples': 184, 'min_child_weight': 7, 'subsample': 0.9, 'colsample_bytree': 0.7, 'reg_alpha': 10.1, 'reg_lambda': 12.1}\n",
      "                        Accuracy : 0.976  F1_score_0 : 0.986  F1_score_1 : 0.895  Precision_0 : 0.98  Precision_1 : 0.943  Recall_0 : 0.993  Recall_1 : 0.851  Roc_auc : 0.968\n",
      "\u001b[32m[I 2021-09-24 08:33:16,056]\u001b[0m Trial 6 finished with value: 0.9757914338919925 and parameters: {'model_algo': 'lgb', 'num_leaves': 43, 'min_child_samples': 184, 'min_child_weight': 7, 'subsample': 0.9, 'colsample_bytree': 0.7, 'reg_alpha': 10.1, 'reg_lambda': 12.1}. Best is trial 0 with value: 0.9757914338919925.\u001b[0m\n",
      "C:\\ProgramData\\Anaconda3\\lib\\site-packages\\optuna\\distributions.py:545: UserWarning: The distribution is specified by [0.1, 100] and q=1, but the range is not divisible by `q`. It will be replaced by [0.1, 99.1].\n",
      "  warnings.warn(\n",
      "2021-09-24 08:33:16.106 | INFO     | src.ARKAutoML.ARKAutoML:objective:79 - Trial No : 7, accuracy : 0.9752, Params : {'model_algo': 'lgb', 'num_leaves': 36, 'min_child_samples': 294, 'min_child_weight': 2, 'subsample': 0.7, 'colsample_bytree': 1.0, 'reg_alpha': 80.1, 'reg_lambda': 49.1}\n",
      "                        Accuracy : 0.975  F1_score_0 : 0.986  F1_score_1 : 0.891  Precision_0 : 0.978  Precision_1 : 0.953  Recall_0 : 0.994  Recall_1 : 0.836  Roc_auc : 0.958\n",
      "\u001b[32m[I 2021-09-24 08:33:16,175]\u001b[0m Trial 7 finished with value: 0.9751707014276847 and parameters: {'model_algo': 'lgb', 'num_leaves': 36, 'min_child_samples': 294, 'min_child_weight': 2, 'subsample': 0.7, 'colsample_bytree': 1.0, 'reg_alpha': 80.1, 'reg_lambda': 49.1}. Best is trial 0 with value: 0.9757914338919925.\u001b[0m\n",
      "C:\\ProgramData\\Anaconda3\\lib\\site-packages\\optuna\\distributions.py:545: UserWarning: The distribution is specified by [0.1, 100] and q=1, but the range is not divisible by `q`. It will be replaced by [0.1, 99.1].\n",
      "  warnings.warn(\n",
      "2021-09-24 08:33:16.221 | INFO     | src.ARKAutoML.ARKAutoML:objective:79 - Trial No : 8, accuracy : 0.9745, Params : {'model_algo': 'lgb', 'num_leaves': 41, 'min_child_samples': 467, 'min_child_weight': 2, 'subsample': 0.9, 'colsample_bytree': 0.9, 'reg_alpha': 50.1, 'reg_lambda': 57.1}\n",
      "                        Accuracy : 0.975  F1_score_0 : 0.986  F1_score_1 : 0.888  Precision_0 : 0.978  Precision_1 : 0.948  Recall_0 : 0.994  Recall_1 : 0.836  Roc_auc : 0.961\n",
      "\u001b[32m[I 2021-09-24 08:33:16,292]\u001b[0m Trial 8 finished with value: 0.9745499689633768 and parameters: {'model_algo': 'lgb', 'num_leaves': 41, 'min_child_samples': 467, 'min_child_weight': 2, 'subsample': 0.9, 'colsample_bytree': 0.9, 'reg_alpha': 50.1, 'reg_lambda': 57.1}. Best is trial 0 with value: 0.9757914338919925.\u001b[0m\n",
      "C:\\ProgramData\\Anaconda3\\lib\\site-packages\\optuna\\distributions.py:545: UserWarning: The distribution is specified by [0.1, 100] and q=1, but the range is not divisible by `q`. It will be replaced by [0.1, 99.1].\n",
      "  warnings.warn(\n",
      "2021-09-24 08:33:16.340 | INFO     | src.ARKAutoML.ARKAutoML:objective:79 - Trial No : 9, accuracy : 0.9752, Params : {'model_algo': 'lgb', 'num_leaves': 44, 'min_child_samples': 223, 'min_child_weight': 7, 'subsample': 0.7, 'colsample_bytree': 1.0, 'reg_alpha': 64.1, 'reg_lambda': 27.1}\n",
      "                        Accuracy : 0.975  F1_score_0 : 0.986  F1_score_1 : 0.892  Precision_0 : 0.979  Precision_1 : 0.943  Recall_0 : 0.993  Recall_1 : 0.846  Roc_auc : 0.958\n",
      "\u001b[32m[I 2021-09-24 08:33:16,415]\u001b[0m Trial 9 finished with value: 0.9751707014276847 and parameters: {'model_algo': 'lgb', 'num_leaves': 44, 'min_child_samples': 223, 'min_child_weight': 7, 'subsample': 0.7, 'colsample_bytree': 1.0, 'reg_alpha': 64.1, 'reg_lambda': 27.1}. Best is trial 0 with value: 0.9757914338919925.\u001b[0m\n",
      "C:\\ProgramData\\Anaconda3\\lib\\site-packages\\optuna\\distributions.py:545: UserWarning: The distribution is specified by [0.1, 100] and q=1, but the range is not divisible by `q`. It will be replaced by [0.1, 99.1].\n",
      "  warnings.warn(\n",
      "2021-09-24 08:33:16.497 | INFO     | src.ARKAutoML.ARKAutoML:objective:79 - Trial No : 10, accuracy : 0.9752, Params : {'model_algo': 'lgb', 'num_leaves': 50, 'min_child_samples': 338, 'min_child_weight': 5, 'subsample': 1.0, 'colsample_bytree': 0.6, 'reg_alpha': 1.1, 'reg_lambda': 86.1}\n",
      "                        Accuracy : 0.975  F1_score_0 : 0.986  F1_score_1 : 0.891  Precision_0 : 0.978  Precision_1 : 0.948  Recall_0 : 0.994  Recall_1 : 0.841  Roc_auc : 0.966\n",
      "\u001b[32m[I 2021-09-24 08:33:16,569]\u001b[0m Trial 10 finished with value: 0.9751707014276847 and parameters: {'model_algo': 'lgb', 'num_leaves': 50, 'min_child_samples': 338, 'min_child_weight': 5, 'subsample': 1.0, 'colsample_bytree': 0.6, 'reg_alpha': 1.1, 'reg_lambda': 86.1}. Best is trial 0 with value: 0.9757914338919925.\u001b[0m\n",
      "C:\\ProgramData\\Anaconda3\\lib\\site-packages\\optuna\\distributions.py:545: UserWarning: The distribution is specified by [0.1, 100] and q=1, but the range is not divisible by `q`. It will be replaced by [0.1, 99.1].\n",
      "  warnings.warn(\n",
      "2021-09-24 08:33:16.642 | INFO     | src.ARKAutoML.ARKAutoML:objective:79 - Trial No : 11, accuracy : 0.9752, Params : {'model_algo': 'lgb', 'num_leaves': 50, 'min_child_samples': 108, 'min_child_weight': 4, 'subsample': 0.9, 'colsample_bytree': 0.7, 'reg_alpha': 8.1, 'reg_lambda': 86.1}\n",
      "                        Accuracy : 0.975  F1_score_0 : 0.986  F1_score_1 : 0.892  Precision_0 : 0.979  Precision_1 : 0.943  Recall_0 : 0.993  Recall_1 : 0.846  Roc_auc : 0.967\n",
      "\u001b[32m[I 2021-09-24 08:33:16,709]\u001b[0m Trial 11 finished with value: 0.9751707014276847 and parameters: {'model_algo': 'lgb', 'num_leaves': 50, 'min_child_samples': 108, 'min_child_weight': 4, 'subsample': 0.9, 'colsample_bytree': 0.7, 'reg_alpha': 8.1, 'reg_lambda': 86.1}. Best is trial 0 with value: 0.9757914338919925.\u001b[0m\n",
      "C:\\ProgramData\\Anaconda3\\lib\\site-packages\\optuna\\distributions.py:545: UserWarning: The distribution is specified by [0.1, 100] and q=1, but the range is not divisible by `q`. It will be replaced by [0.1, 99.1].\n",
      "  warnings.warn(\n",
      "2021-09-24 08:33:16.775 | INFO     | src.ARKAutoML.ARKAutoML:objective:79 - Trial No : 12, accuracy : 0.9752, Params : {'model_algo': 'lgb', 'num_leaves': 42, 'min_child_samples': 171, 'min_child_weight': 5, 'subsample': 1.0, 'colsample_bytree': 0.7, 'reg_alpha': 20.1, 'reg_lambda': 2.1}\n",
      "                        Accuracy : 0.975  F1_score_0 : 0.986  F1_score_1 : 0.891  Precision_0 : 0.978  Precision_1 : 0.948  Recall_0 : 0.994  Recall_1 : 0.841  Roc_auc : 0.967\n",
      "\u001b[32m[I 2021-09-24 08:33:16,845]\u001b[0m Trial 12 finished with value: 0.9751707014276847 and parameters: {'model_algo': 'lgb', 'num_leaves': 42, 'min_child_samples': 171, 'min_child_weight': 5, 'subsample': 1.0, 'colsample_bytree': 0.7, 'reg_alpha': 20.1, 'reg_lambda': 2.1}. Best is trial 0 with value: 0.9757914338919925.\u001b[0m\n",
      "C:\\ProgramData\\Anaconda3\\lib\\site-packages\\optuna\\distributions.py:545: UserWarning: The distribution is specified by [0.1, 100] and q=1, but the range is not divisible by `q`. It will be replaced by [0.1, 99.1].\n",
      "  warnings.warn(\n",
      "2021-09-24 08:33:16.916 | INFO     | src.ARKAutoML.ARKAutoML:objective:79 - Trial No : 13, accuracy : 0.9739, Params : {'model_algo': 'lgb', 'num_leaves': 26, 'min_child_samples': 111, 'min_child_weight': 1, 'subsample': 0.9, 'colsample_bytree': 0.6, 'reg_alpha': 26.1, 'reg_lambda': 70.1}\n",
      "                        Accuracy : 0.974  F1_score_0 : 0.985  F1_score_1 : 0.886  Precision_0 : 0.978  Precision_1 : 0.942  Recall_0 : 0.993  Recall_1 : 0.836  Roc_auc : 0.965\n",
      "\u001b[32m[I 2021-09-24 08:33:16,986]\u001b[0m Trial 13 finished with value: 0.9739292364990689 and parameters: {'model_algo': 'lgb', 'num_leaves': 26, 'min_child_samples': 111, 'min_child_weight': 1, 'subsample': 0.9, 'colsample_bytree': 0.6, 'reg_alpha': 26.1, 'reg_lambda': 70.1}. Best is trial 0 with value: 0.9757914338919925.\u001b[0m\n",
      "C:\\ProgramData\\Anaconda3\\lib\\site-packages\\optuna\\distributions.py:545: UserWarning: The distribution is specified by [0.1, 100] and q=1, but the range is not divisible by `q`. It will be replaced by [0.1, 99.1].\n",
      "  warnings.warn(\n",
      "2021-09-24 08:33:17.061 | INFO     | src.ARKAutoML.ARKAutoML:objective:79 - Trial No : 14, accuracy : 0.9752, Params : {'model_algo': 'lgb', 'num_leaves': 50, 'min_child_samples': 253, 'min_child_weight': 5, 'subsample': 0.8, 'colsample_bytree': 0.7, 'reg_alpha': 18.1, 'reg_lambda': 41.1}\n",
      "                        Accuracy : 0.975  F1_score_0 : 0.986  F1_score_1 : 0.891  Precision_0 : 0.978  Precision_1 : 0.948  Recall_0 : 0.994  Recall_1 : 0.841  Roc_auc : 0.967\n",
      "\u001b[32m[I 2021-09-24 08:33:17,131]\u001b[0m Trial 14 finished with value: 0.9751707014276847 and parameters: {'model_algo': 'lgb', 'num_leaves': 50, 'min_child_samples': 253, 'min_child_weight': 5, 'subsample': 0.8, 'colsample_bytree': 0.7, 'reg_alpha': 18.1, 'reg_lambda': 41.1}. Best is trial 0 with value: 0.9757914338919925.\u001b[0m\n",
      "C:\\ProgramData\\Anaconda3\\lib\\site-packages\\optuna\\distributions.py:545: UserWarning: The distribution is specified by [0.1, 100] and q=1, but the range is not divisible by `q`. It will be replaced by [0.1, 99.1].\n",
      "  warnings.warn(\n",
      "2021-09-24 08:33:17.198 | INFO     | src.ARKAutoML.ARKAutoML:objective:79 - Trial No : 15, accuracy : 0.9733, Params : {'model_algo': 'lgb', 'num_leaves': 37, 'min_child_samples': 170, 'min_child_weight': 4, 'subsample': 0.8, 'colsample_bytree': 0.6, 'reg_alpha': 35.1, 'reg_lambda': 99.1}\n",
      "                        Accuracy : 0.973  F1_score_0 : 0.985  F1_score_1 : 0.883  Precision_0 : 0.977  Precision_1 : 0.942  Recall_0 : 0.993  Recall_1 : 0.831  Roc_auc : 0.962\n",
      "\u001b[32m[I 2021-09-24 08:33:17,266]\u001b[0m Trial 15 finished with value: 0.973308504034761 and parameters: {'model_algo': 'lgb', 'num_leaves': 37, 'min_child_samples': 170, 'min_child_weight': 4, 'subsample': 0.8, 'colsample_bytree': 0.6, 'reg_alpha': 35.1, 'reg_lambda': 99.1}. Best is trial 0 with value: 0.9757914338919925.\u001b[0m\n",
      "C:\\ProgramData\\Anaconda3\\lib\\site-packages\\optuna\\distributions.py:545: UserWarning: The distribution is specified by [0.1, 100] and q=1, but the range is not divisible by `q`. It will be replaced by [0.1, 99.1].\n",
      "  warnings.warn(\n",
      "2021-09-24 08:33:17.342 | INFO     | src.ARKAutoML.ARKAutoML:objective:79 - Trial No : 16, accuracy : 0.9752, Params : {'model_algo': 'lgb', 'num_leaves': 45, 'min_child_samples': 101, 'min_child_weight': 6, 'subsample': 1.0, 'colsample_bytree': 0.7, 'reg_alpha': 4.1, 'reg_lambda': 70.1}\n",
      "                        Accuracy : 0.975  F1_score_0 : 0.986  F1_score_1 : 0.892  Precision_0 : 0.979  Precision_1 : 0.943  Recall_0 : 0.993  Recall_1 : 0.846  Roc_auc : 0.968\n",
      "\u001b[32m[I 2021-09-24 08:33:17,410]\u001b[0m Trial 16 finished with value: 0.9751707014276847 and parameters: {'model_algo': 'lgb', 'num_leaves': 45, 'min_child_samples': 101, 'min_child_weight': 6, 'subsample': 1.0, 'colsample_bytree': 0.7, 'reg_alpha': 4.1, 'reg_lambda': 70.1}. Best is trial 0 with value: 0.9757914338919925.\u001b[0m\n",
      "C:\\ProgramData\\Anaconda3\\lib\\site-packages\\optuna\\distributions.py:545: UserWarning: The distribution is specified by [0.1, 100] and q=1, but the range is not divisible by `q`. It will be replaced by [0.1, 99.1].\n",
      "  warnings.warn(\n",
      "2021-09-24 08:33:17.481 | INFO     | src.ARKAutoML.ARKAutoML:objective:79 - Trial No : 17, accuracy : 0.9752, Params : {'model_algo': 'lgb', 'num_leaves': 38, 'min_child_samples': 167, 'min_child_weight': 3, 'subsample': 0.9, 'colsample_bytree': 0.6, 'reg_alpha': 13.1, 'reg_lambda': 2.1}\n",
      "                        Accuracy : 0.975  F1_score_0 : 0.986  F1_score_1 : 0.892  Precision_0 : 0.979  Precision_1 : 0.943  Recall_0 : 0.993  Recall_1 : 0.846  Roc_auc : 0.968\n",
      "\u001b[32m[I 2021-09-24 08:33:17,549]\u001b[0m Trial 17 finished with value: 0.9751707014276847 and parameters: {'model_algo': 'lgb', 'num_leaves': 38, 'min_child_samples': 167, 'min_child_weight': 3, 'subsample': 0.9, 'colsample_bytree': 0.6, 'reg_alpha': 13.1, 'reg_lambda': 2.1}. Best is trial 0 with value: 0.9757914338919925.\u001b[0m\n",
      "C:\\ProgramData\\Anaconda3\\lib\\site-packages\\optuna\\distributions.py:545: UserWarning: The distribution is specified by [0.1, 100] and q=1, but the range is not divisible by `q`. It will be replaced by [0.1, 99.1].\n",
      "  warnings.warn(\n",
      "2021-09-24 08:33:17.618 | INFO     | src.ARKAutoML.ARKAutoML:objective:79 - Trial No : 18, accuracy : 0.9758, Params : {'model_algo': 'lgb', 'num_leaves': 46, 'min_child_samples': 257, 'min_child_weight': 6, 'subsample': 1.0, 'colsample_bytree': 0.8, 'reg_alpha': 27.1, 'reg_lambda': 37.1}\n",
      "                        Accuracy : 0.976  F1_score_0 : 0.986  F1_score_1 : 0.894  Precision_0 : 0.979  Precision_1 : 0.948  Recall_0 : 0.994  Recall_1 : 0.846  Roc_auc : 0.965\n",
      "\u001b[32m[I 2021-09-24 08:33:17,687]\u001b[0m Trial 18 finished with value: 0.9757914338919925 and parameters: {'model_algo': 'lgb', 'num_leaves': 46, 'min_child_samples': 257, 'min_child_weight': 6, 'subsample': 1.0, 'colsample_bytree': 0.8, 'reg_alpha': 27.1, 'reg_lambda': 37.1}. Best is trial 0 with value: 0.9757914338919925.\u001b[0m\n",
      "C:\\ProgramData\\Anaconda3\\lib\\site-packages\\optuna\\distributions.py:545: UserWarning: The distribution is specified by [0.1, 100] and q=1, but the range is not divisible by `q`. It will be replaced by [0.1, 99.1].\n",
      "  warnings.warn(\n",
      "2021-09-24 08:33:17.757 | INFO     | src.ARKAutoML.ARKAutoML:objective:79 - Trial No : 19, accuracy : 0.9764, Params : {'model_algo': 'lgb', 'num_leaves': 27, 'min_child_samples': 382, 'min_child_weight': 1, 'subsample': 0.8, 'colsample_bytree': 0.7, 'reg_alpha': 2.1, 'reg_lambda': 60.1}\n",
      "                        Accuracy : 0.976  F1_score_0 : 0.987  F1_score_1 : 0.897  Precision_0 : 0.98  Precision_1 : 0.949  Recall_0 : 0.994  Recall_1 : 0.851  Roc_auc : 0.965\n",
      "\u001b[32m[I 2021-09-24 08:33:17,825]\u001b[0m Trial 19 finished with value: 0.9764121663563005 and parameters: {'model_algo': 'lgb', 'num_leaves': 27, 'min_child_samples': 382, 'min_child_weight': 1, 'subsample': 0.8, 'colsample_bytree': 0.7, 'reg_alpha': 2.1, 'reg_lambda': 60.1}. Best is trial 19 with value: 0.9764121663563005.\u001b[0m\n"
     ]
    }
   ],
   "metadata": {}
  },
  {
   "cell_type": "code",
   "execution_count": 8,
   "source": [
    "cross_validated_metrics, final_metrics_by_cut_off   = aml.get_crossvalidated_results_for_best_model(folds=5)"
   ],
   "outputs": [
    {
     "output_type": "stream",
     "name": "stderr",
     "text": [
      "2021-09-24 08:33:17.860 | INFO     | src.ARKAutoML.ARKAutoML:get_crossvalidated_results_for_best_model:133 - Best Model : lgb, Model Params : {'num_leaves': 27, 'min_child_samples': 382, 'min_child_weight': 1, 'subsample': 0.8, 'colsample_bytree': 0.7, 'reg_alpha': 2.1, 'reg_lambda': 60.1}\n",
      "2021-09-24 08:33:17.897 | INFO     | src.ARKAutoML.ARKAutoML:get_crossvalidated_results_for_best_model:139 - Fold : 1, Train Shape : (6442, 10), Test Shape : (1611, 10)\n",
      "2021-09-24 08:33:17.917 | INFO     | src.ARKAutoML.metrics:model_metrics:43 - Accuracy : 0.976  Precision_1 : 0.949  Recall_1 : 0.851  F1_score_1 : 0.897  Precision_0 : 0.98  Recall_0 : 0.994  F1_score_0 : 0.987  Roc_auc : 0.965\n",
      "2021-09-24 08:33:17.920 | INFO     | src.ARKAutoML.metrics:model_metrics:44 - \n",
      " [[1407    9]\n",
      " [  29  166]]\n",
      "2021-09-24 08:33:17.926 | INFO     | src.ARKAutoML.metrics:model_metrics:45 - \n",
      "               precision    recall  f1-score   support\n",
      "\n",
      "           0       0.98      0.99      0.99      1416\n",
      "           1       0.95      0.85      0.90       195\n",
      "\n",
      "    accuracy                           0.98      1611\n",
      "   macro avg       0.96      0.92      0.94      1611\n",
      "weighted avg       0.98      0.98      0.98      1611\n",
      "\n",
      "2021-09-24 08:33:18.018 | INFO     | src.ARKAutoML.ARKAutoML:get_crossvalidated_results_for_best_model:139 - Fold : 2, Train Shape : (6442, 10), Test Shape : (1611, 10)\n",
      "2021-09-24 08:33:18.036 | INFO     | src.ARKAutoML.metrics:model_metrics:43 - Accuracy : 0.978  Precision_1 : 0.93  Recall_1 : 0.887  F1_score_1 : 0.908  Precision_0 : 0.985  Recall_0 : 0.991  F1_score_0 : 0.988  Roc_auc : 0.975\n",
      "2021-09-24 08:33:18.040 | INFO     | src.ARKAutoML.metrics:model_metrics:44 - \n",
      " [[1403   13]\n",
      " [  22  173]]\n",
      "2021-09-24 08:33:18.046 | INFO     | src.ARKAutoML.metrics:model_metrics:45 - \n",
      "               precision    recall  f1-score   support\n",
      "\n",
      "           0       0.98      0.99      0.99      1416\n",
      "           1       0.93      0.89      0.91       195\n",
      "\n",
      "    accuracy                           0.98      1611\n",
      "   macro avg       0.96      0.94      0.95      1611\n",
      "weighted avg       0.98      0.98      0.98      1611\n",
      "\n",
      "2021-09-24 08:33:18.136 | INFO     | src.ARKAutoML.ARKAutoML:get_crossvalidated_results_for_best_model:139 - Fold : 3, Train Shape : (6442, 10), Test Shape : (1611, 10)\n",
      "2021-09-24 08:33:18.152 | INFO     | src.ARKAutoML.metrics:model_metrics:43 - Accuracy : 0.975  Precision_1 : 0.928  Recall_1 : 0.862  F1_score_1 : 0.894  Precision_0 : 0.981  Recall_0 : 0.991  F1_score_0 : 0.986  Roc_auc : 0.978\n",
      "2021-09-24 08:33:18.155 | INFO     | src.ARKAutoML.metrics:model_metrics:44 - \n",
      " [[1403   13]\n",
      " [  27  168]]\n",
      "2021-09-24 08:33:18.162 | INFO     | src.ARKAutoML.metrics:model_metrics:45 - \n",
      "               precision    recall  f1-score   support\n",
      "\n",
      "           0       0.98      0.99      0.99      1416\n",
      "           1       0.93      0.86      0.89       195\n",
      "\n",
      "    accuracy                           0.98      1611\n",
      "   macro avg       0.95      0.93      0.94      1611\n",
      "weighted avg       0.97      0.98      0.97      1611\n",
      "\n",
      "2021-09-24 08:33:18.251 | INFO     | src.ARKAutoML.ARKAutoML:get_crossvalidated_results_for_best_model:139 - Fold : 4, Train Shape : (6443, 10), Test Shape : (1610, 10)\n",
      "2021-09-24 08:33:18.267 | INFO     | src.ARKAutoML.metrics:model_metrics:43 - Accuracy : 0.971  Precision_1 : 0.962  Recall_1 : 0.789  F1_score_1 : 0.867  Precision_0 : 0.972  Recall_0 : 0.996  F1_score_0 : 0.984  Roc_auc : 0.969\n",
      "2021-09-24 08:33:18.270 | INFO     | src.ARKAutoML.metrics:model_metrics:44 - \n",
      " [[1410    6]\n",
      " [  41  153]]\n",
      "2021-09-24 08:33:18.277 | INFO     | src.ARKAutoML.metrics:model_metrics:45 - \n",
      "               precision    recall  f1-score   support\n",
      "\n",
      "           0       0.97      1.00      0.98      1416\n",
      "           1       0.96      0.79      0.87       194\n",
      "\n",
      "    accuracy                           0.97      1610\n",
      "   macro avg       0.97      0.89      0.93      1610\n",
      "weighted avg       0.97      0.97      0.97      1610\n",
      "\n",
      "2021-09-24 08:33:18.364 | INFO     | src.ARKAutoML.ARKAutoML:get_crossvalidated_results_for_best_model:139 - Fold : 5, Train Shape : (6443, 10), Test Shape : (1610, 10)\n",
      "2021-09-24 08:33:18.379 | INFO     | src.ARKAutoML.metrics:model_metrics:43 - Accuracy : 0.97  Precision_1 : 0.929  Recall_1 : 0.814  F1_score_1 : 0.868  Precision_0 : 0.975  Recall_0 : 0.992  F1_score_0 : 0.983  Roc_auc : 0.967\n",
      "2021-09-24 08:33:18.382 | INFO     | src.ARKAutoML.metrics:model_metrics:44 - \n",
      " [[1404   12]\n",
      " [  36  158]]\n",
      "2021-09-24 08:33:18.388 | INFO     | src.ARKAutoML.metrics:model_metrics:45 - \n",
      "               precision    recall  f1-score   support\n",
      "\n",
      "           0       0.97      0.99      0.98      1416\n",
      "           1       0.93      0.81      0.87       194\n",
      "\n",
      "    accuracy                           0.97      1610\n",
      "   macro avg       0.95      0.90      0.93      1610\n",
      "weighted avg       0.97      0.97      0.97      1610\n",
      "\n",
      "2021-09-24 08:33:18.448 | INFO     | src.ARKAutoML.ARKAutoML:get_crossvalidated_results_for_best_model:150 - Feature Importance : \n",
      "+----+----------------------------------+--------------+\n",
      "|    | features                         |   importance |\n",
      "|----+----------------------------------+--------------|\n",
      "|  0 | customer_ctr_score               |   0.303459   |\n",
      "|  1 | customer_stay_score              |   0.170642   |\n",
      "|  2 | customer_product_variation_score |   0.136726   |\n",
      "|  3 | customer_product_search_score    |   0.114543   |\n",
      "|  4 | customer_frequency_score         |   0.0966771  |\n",
      "|  5 | customer_visit_score             |   0.0696199  |\n",
      "|  6 | customer_affinity_score          |   0.0612011  |\n",
      "|  7 | customer_order_score             |   0.0365328  |\n",
      "|  8 | X1                               |   0.00682195 |\n",
      "|  9 | customer_active_segment          |   0.00377657 |\n",
      "+----+----------------------------------+--------------+\n",
      "2021-09-24 08:33:18.454 | INFO     | src.ARKAutoML.ARKAutoML:get_crossvalidated_results_for_best_model:154 - Metrics by different Cut Offs : \n",
      "+----------------+------------+---------------+------------+--------------+---------------+------------+--------------+\n",
      "|   prob_cut_off |   accuracy |   precision_1 |   recall_1 |   f1_score_1 |   precision_0 |   recall_0 |   f1_score_0 |\n",
      "|----------------+------------+---------------+------------+--------------+---------------+------------+--------------|\n",
      "|           0.5  |   0.97417  |      0.939706 |   0.840619 |     0.886808 |      0.978446 |   0.992514 |     0.98542  |\n",
      "|           0.55 |   0.973674 |      0.944909 |   0.831383 |     0.883827 |      0.977237 |   0.99322  |     0.985153 |\n",
      "|           0.6  |   0.973425 |      0.948014 |   0.826238 |     0.882091 |      0.976576 |   0.993644 |     0.985023 |\n",
      "|           0.65 |   0.973425 |      0.95099  |   0.823151 |     0.881718 |      0.976175 |   0.994068 |     0.985029 |\n",
      "|           0.7  |   0.973176 |      0.958359 |   0.813894 |     0.87947  |      0.974985 |   0.995056 |     0.984907 |\n",
      "+----------------+------------+---------------+------------+--------------+---------------+------------+--------------+\n",
      "2021-09-24 08:33:18.456 | INFO     | src.ARKAutoML.ARKAutoML:get_crossvalidated_results_for_best_model:157 - *** Cross Validated Final Results : *** \n",
      "Accuracy : 0.974  Precision_1 : 0.94  Recall_1 : 0.841  F1_score_1 : 0.887  Precision_0 : 0.978  Recall_0 : 0.993  F1_score_0 : 0.985  Roc_auc : 0.971\n"
     ]
    }
   ],
   "metadata": {}
  },
  {
   "cell_type": "code",
   "execution_count": 9,
   "source": [
    "aml.train_best_model()"
   ],
   "outputs": [
    {
     "output_type": "stream",
     "name": "stderr",
     "text": [
      "2021-09-24 08:33:18.579 | INFO     | src.ARKAutoML.ARKAutoML:train_best_model:190 - Training \"lgb\" Model with Best Params : {'num_leaves': 27, 'min_child_samples': 382, 'min_child_weight': 1, 'subsample': 0.8, 'colsample_bytree': 0.7, 'reg_alpha': 2.1, 'reg_lambda': 60.1}\n",
      "2021-09-24 08:33:18.654 | INFO     | src.ARKAutoML.metrics:model_metrics:43 - Accuracy : 0.975  Precision_1 : 0.944  Recall_1 : 0.844  F1_score_1 : 0.891  Precision_0 : 0.979  Recall_0 : 0.993  F1_score_0 : 0.986  Roc_auc : 0.981\n",
      "2021-09-24 08:33:18.662 | INFO     | src.ARKAutoML.metrics:model_metrics:44 - \n",
      " [[7031   49]\n",
      " [ 152  821]]\n",
      "2021-09-24 08:33:18.675 | INFO     | src.ARKAutoML.metrics:model_metrics:45 - \n",
      "               precision    recall  f1-score   support\n",
      "\n",
      "           0       0.98      0.99      0.99      7080\n",
      "           1       0.94      0.84      0.89       973\n",
      "\n",
      "    accuracy                           0.98      8053\n",
      "   macro avg       0.96      0.92      0.94      8053\n",
      "weighted avg       0.97      0.98      0.97      8053\n",
      "\n",
      "2021-09-24 08:33:18.680 | INFO     | src.ARKAutoML.ARKAutoML:train_best_model:196 - Best Model Feature Importance : \n",
      "+----+----------------------------------+--------------+\n",
      "|    | features                         |   importance |\n",
      "|----+----------------------------------+--------------|\n",
      "|  0 | customer_ctr_score               |   0.264574   |\n",
      "|  1 | customer_stay_score              |   0.188341   |\n",
      "|  2 | customer_product_variation_score |   0.130045   |\n",
      "|  3 | customer_frequency_score         |   0.107623   |\n",
      "|  4 | customer_product_search_score    |   0.103139   |\n",
      "|  5 | customer_visit_score             |   0.0926756  |\n",
      "|  6 | customer_affinity_score          |   0.0717489  |\n",
      "|  7 | customer_order_score             |   0.0224215  |\n",
      "|  8 | X1                               |   0.0179372  |\n",
      "|  9 | customer_active_segment          |   0.00149477 |\n",
      "+----+----------------------------------+--------------+\n"
     ]
    }
   ],
   "metadata": {}
  },
  {
   "cell_type": "code",
   "execution_count": 10,
   "source": [
    "score, metrics_by_cut_off = aml.score_validation_data(valid)"
   ],
   "outputs": [
    {
     "output_type": "stream",
     "name": "stderr",
     "text": [
      "2021-09-24 08:33:18.744 | INFO     | src.ARKAutoML.ARKAutoML:score_validation_data:219 - Scoring Validation Data : Validation Shape : (2685, 10)\n",
      "2021-09-24 08:33:18.777 | INFO     | src.ARKAutoML.metrics:model_metrics:43 - Accuracy : 0.978  Precision_1 : 0.961  Recall_1 : 0.851  F1_score_1 : 0.903  Precision_0 : 0.98  Recall_0 : 0.995  F1_score_0 : 0.988  Roc_auc : 0.983\n",
      "2021-09-24 08:33:18.781 | INFO     | src.ARKAutoML.metrics:model_metrics:44 - \n",
      " [[2352   11]\n",
      " [  48  274]]\n",
      "2021-09-24 08:33:18.789 | INFO     | src.ARKAutoML.metrics:model_metrics:45 - \n",
      "               precision    recall  f1-score   support\n",
      "\n",
      "           0       0.98      1.00      0.99      2363\n",
      "           1       0.96      0.85      0.90       322\n",
      "\n",
      "    accuracy                           0.98      2685\n",
      "   macro avg       0.97      0.92      0.95      2685\n",
      "weighted avg       0.98      0.98      0.98      2685\n",
      "\n",
      "2021-09-24 08:33:18.863 | INFO     | src.ARKAutoML.ARKAutoML:score_validation_data:222 - Metrics by different Cut Offs : \n",
      "+----------------+------------+---------------+------------+--------------+---------------+------------+--------------+\n",
      "|   prob_cut_off |   accuracy |   precision_1 |   recall_1 |   f1_score_1 |   precision_0 |   recall_0 |   f1_score_0 |\n",
      "|----------------+------------+---------------+------------+--------------+---------------+------------+--------------|\n",
      "|           0.5  |   0.978026 |      0.961404 |   0.850932 |     0.902801 |      0.98     |   0.995345 |     0.987613 |\n",
      "|           0.55 |   0.977654 |      0.961268 |   0.847826 |     0.90099  |      0.979592 |   0.995345 |     0.987406 |\n",
      "|           0.6  |   0.977654 |      0.964539 |   0.84472  |     0.900662 |      0.979193 |   0.995768 |     0.987411 |\n",
      "|           0.65 |   0.977281 |      0.967742 |   0.838509 |     0.898502 |      0.978387 |   0.996191 |     0.987209 |\n",
      "|           0.7  |   0.975419 |      0.967153 |   0.822981 |     0.889262 |      0.976358 |   0.996191 |     0.986175 |\n",
      "+----------------+------------+---------------+------------+--------------+---------------+------------+--------------+\n"
     ]
    }
   ],
   "metadata": {}
  },
  {
   "cell_type": "code",
   "execution_count": 11,
   "source": [
    "aml.save_best_model()"
   ],
   "outputs": [
    {
     "output_type": "stream",
     "name": "stderr",
     "text": [
      "2021-09-24 08:33:18.900 | INFO     | src.ARKAutoML.ARKAutoML:save_best_model:205 - ..\\output\\MySampleProject\\Sample_1\\models\\best_model_preprocessor.pkl\n",
      "2021-09-24 08:33:18.901 | INFO     | src.ARKAutoML.ARKAutoML:save_best_model:206 - ..\\output\\MySampleProject\\Sample_1\\models\\best_model.pkl\n"
     ]
    }
   ],
   "metadata": {}
  },
  {
   "cell_type": "code",
   "execution_count": 12,
   "source": [
    "test_d = valid.iloc[0:1, :].drop(BaseConfig.TARGET_COL,axis=1)"
   ],
   "outputs": [],
   "metadata": {}
  },
  {
   "cell_type": "code",
   "execution_count": 13,
   "source": [
    "aml.predict(test_d)"
   ],
   "outputs": [
    {
     "output_type": "execute_result",
     "data": {
      "text/plain": [
       "(array([0], dtype=int8), array([[0.99568583, 0.00431417]]))"
      ]
     },
     "metadata": {},
     "execution_count": 13
    }
   ],
   "metadata": {}
  },
  {
   "cell_type": "markdown",
   "source": [
    "### Load PreTrained Model"
   ],
   "metadata": {}
  },
  {
   "cell_type": "code",
   "execution_count": 14,
   "source": [
    "aml2 = ARKAutoML(config=BaseConfig, loading=True)"
   ],
   "outputs": [
    {
     "output_type": "stream",
     "name": "stderr",
     "text": [
      "2021-09-24 08:33:19.024 | INFO     | src.ARKAutoML.ARKAutoML:add_project_config_to_logs:43 - \n",
      "{'BASE_INPUT_PATH': '../input/',\n",
      " 'BASE_OUTPUT_PATH': '../output/',\n",
      " 'DATA_PATH': '../input/../input/train.csv',\n",
      " 'FILE_NAME': '../input/train.csv',\n",
      " 'FOLD_METHOD': 'StratifiedKFold',\n",
      " 'PROBLEM_TYPE': 'classification',\n",
      " 'PROJECT_NAME': 'MySampleProject',\n",
      " 'SUB_PROJECT_NAME': 'Sample_1',\n",
      " 'TARGET_COL': 'customer_category',\n",
      " 'cat_cols': ['customer_active_segment', 'X1'],\n",
      " 'cont_cols': ['customer_visit_score',\n",
      "               'customer_product_search_score',\n",
      "               'customer_ctr_score',\n",
      "               'customer_stay_score',\n",
      "               'customer_frequency_score',\n",
      "               'customer_product_variation_score',\n",
      "               'customer_order_score',\n",
      "               'customer_affinity_score']}\n"
     ]
    }
   ],
   "metadata": {}
  },
  {
   "cell_type": "code",
   "execution_count": 15,
   "source": [
    "aml2.load_best_model()"
   ],
   "outputs": [],
   "metadata": {}
  },
  {
   "cell_type": "code",
   "execution_count": 16,
   "source": [
    "test_d = valid.iloc[0:1, :].drop(BaseConfig.TARGET_COL,axis=1)\r\n",
    "aml2.predict(test_d)"
   ],
   "outputs": [
    {
     "output_type": "execute_result",
     "data": {
      "text/plain": [
       "(array([0], dtype=int8), array([[0.99568583, 0.00431417]]))"
      ]
     },
     "metadata": {},
     "execution_count": 16
    }
   ],
   "metadata": {}
  },
  {
   "cell_type": "markdown",
   "source": [
    "### Only Train on entire Data and Test on Valid"
   ],
   "metadata": {}
  },
  {
   "cell_type": "markdown",
   "source": [
    "This method is not recommended. But can be used in case of low resources availability."
   ],
   "metadata": {}
  },
  {
   "cell_type": "code",
   "execution_count": 17,
   "source": [
    "aml = ARKAutoML(train,\r\n",
    "                   eval_metric='accuracy', \r\n",
    "                   n_folds=False, n_trials = 1, \r\n",
    "                   model_algos=['rf'],\r\n",
    "                   config=BaseConfig)"
   ],
   "outputs": [
    {
     "output_type": "stream",
     "name": "stderr",
     "text": [
      "2021-09-24 08:33:19.167 | INFO     | src.ARKAutoML.ARKAutoML:add_project_config_to_logs:43 - \n",
      "{'BASE_INPUT_PATH': '../input/',\n",
      " 'BASE_OUTPUT_PATH': '../output/',\n",
      " 'DATA_PATH': '../input/../input/train.csv',\n",
      " 'FILE_NAME': '../input/train.csv',\n",
      " 'FOLD_METHOD': 'StratifiedKFold',\n",
      " 'PROBLEM_TYPE': 'classification',\n",
      " 'PROJECT_NAME': 'MySampleProject',\n",
      " 'SUB_PROJECT_NAME': 'Sample_1',\n",
      " 'TARGET_COL': 'customer_category',\n",
      " 'cat_cols': ['customer_active_segment', 'X1'],\n",
      " 'cont_cols': ['customer_visit_score',\n",
      "               'customer_product_search_score',\n",
      "               'customer_ctr_score',\n",
      "               'customer_stay_score',\n",
      "               'customer_frequency_score',\n",
      "               'customer_product_variation_score',\n",
      "               'customer_order_score',\n",
      "               'customer_affinity_score']}\n"
     ]
    }
   ],
   "metadata": {}
  },
  {
   "cell_type": "code",
   "execution_count": 18,
   "source": [
    "aml.create_only_one_train_and_one_valid(valid)"
   ],
   "outputs": [],
   "metadata": {}
  },
  {
   "cell_type": "code",
   "execution_count": 19,
   "source": [
    "aml.create_optuna_optimization()"
   ],
   "outputs": [
    {
     "output_type": "stream",
     "name": "stderr",
     "text": [
      "\u001b[32m[I 2021-09-24 08:33:19,290]\u001b[0m A new study created in memory with name: MySampleProject\u001b[0m\n",
      "2021-09-24 08:33:19.971 | INFO     | src.ARKAutoML.ARKAutoML:objective:79 - Trial No : 0, accuracy : 0.9769, Params : {'model_algo': 'rf', 'max_depth': 5, 'n_estimators': 348, 'min_samples_split': 58, 'min_samples_leaf': 21}\n",
      "                        Accuracy : 0.977  F1_score_0 : 0.987  F1_score_1 : 0.898  Precision_0 : 0.979  Precision_1 : 0.958  Recall_0 : 0.995  Recall_1 : 0.845  Roc_auc : 0.98\n",
      "\u001b[32m[I 2021-09-24 08:33:20,015]\u001b[0m Trial 0 finished with value: 0.9769087523277468 and parameters: {'model_algo': 'rf', 'max_depth': 5, 'n_estimators': 348, 'min_samples_split': 58, 'min_samples_leaf': 21}. Best is trial 0 with value: 0.9769087523277468.\u001b[0m\n"
     ]
    }
   ],
   "metadata": {}
  },
  {
   "cell_type": "code",
   "execution_count": null,
   "source": [],
   "outputs": [],
   "metadata": {}
  },
  {
   "cell_type": "code",
   "execution_count": null,
   "source": [],
   "outputs": [],
   "metadata": {}
  }
 ],
 "metadata": {
  "kernelspec": {
   "name": "python3",
   "display_name": "Python 3.8.8 64-bit ('base': conda)"
  },
  "language_info": {
   "codemirror_mode": {
    "name": "ipython",
    "version": 3
   },
   "file_extension": ".py",
   "mimetype": "text/x-python",
   "name": "python",
   "nbconvert_exporter": "python",
   "pygments_lexer": "ipython3",
   "version": "3.8.8"
  },
  "interpreter": {
   "hash": "b3ba2566441a7c06988d0923437866b63cedc61552a5af99d1f4fb67d367b25f"
  }
 },
 "nbformat": 4,
 "nbformat_minor": 5
}